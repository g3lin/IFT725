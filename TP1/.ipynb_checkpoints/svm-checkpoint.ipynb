{
 "cells": [
  {
   "cell_type": "markdown",
   "metadata": {},
   "source": [
    "# Machine à vecteurs de support Multiclasse\n",
    "\n",
    "Avec cet exercice, vous serez appelé à:\n",
    "\n",
    "- implanter un réseau de neurones de classification linéaire à 10 classes\n",
    "- implanter une fonction de perte (**loss function**) vectorisée de type **SVM**\n",
    "- implanter des **gradients analytiques rétropropagés** vectorisés\n",
    "- utilisation de **gradients numériques** pour vérifier vos gradients analytiques\n",
    "- utiliser un ensemble de validation pour ajuster le **taux d'apprentissage** et le paramètre de **régularisation**\n",
    "- implanter une descente de gradient stochastique (**SGD**)\n",
    "- **visualiser** les poids appris\n"
   ]
  },
  {
   "cell_type": "code",
   "execution_count": null,
   "metadata": {},
   "outputs": [
    {
     "evalue": "Error: Jupyter cannot be started. Error attempting to locate jupyter: Error: Module 'notebook' not installed.",
     "output_type": "error"
    }
   ],
   "source": [
    "############################################################\n",
    "# TODO: Exécuter le code d'initialisation pour ce notebook #\n",
    "############################################################\n",
    "\n",
    "import random\n",
    "import numpy as np\n",
    "from ift725.data_utils import load_CIFAR10\n",
    "import matplotlib.pyplot as plt\n",
    "\n",
    "# This is a bit of magic to make matplotlib figures appear inline in the\n",
    "# notebook rather than in a new window.\n",
    "%matplotlib inline\n",
    "plt.rcParams['figure.figsize'] = (10.0, 8.0) # set default size of plots\n",
    "plt.rcParams['image.interpolation'] = 'nearest'\n",
    "plt.rcParams['image.cmap'] = 'gray'\n",
    "\n",
    "# Some more magic so that the notebook will reload external python modules;\n",
    "# see http://stackoverflow.com/questions/1907993/autoreload-of-modules-in-ipython\n",
    "%load_ext autoreload\n",
    "%autoreload 2"
   ]
  },
  {
   "cell_type": "markdown",
   "metadata": {},
   "source": [
    "## CIFAR-10 Chargement des données et prétraitement\n",
    "\n",
    "### **TODO** assurez-vous d'exécuter le script *./get_datasets.sh* au moins une fois dans un terminal."
   ]
  },
  {
   "cell_type": "code",
   "execution_count": null,
   "metadata": {},
   "outputs": [
    {
     "evalue": "Error: Jupyter cannot be started. Error attempting to locate jupyter: Error: Module 'notebook' not installed.",
     "output_type": "error"
    }
   ],
   "source": [
    "# Load the raw CIFAR-10 data.\n",
    "cifar10_dir = 'ift725/datasets/cifar-10-batches-py'\n",
    "X_train, y_train, X_test, y_test = load_CIFAR10(cifar10_dir)\n",
    "\n",
    "# As a sanity check, we print out the size of the training and test data.\n",
    "print('Training data shape: ', X_train.shape)\n",
    "print('Training labels shape: ', y_train.shape)\n",
    "print('Test data shape: ', X_test.shape)\n",
    "print('Test labels shape: ', y_test.shape)"
   ]
  },
  {
   "cell_type": "code",
   "execution_count": null,
   "metadata": {},
   "outputs": [
    {
     "evalue": "Error: Jupyter cannot be started. Error attempting to locate jupyter: Error: Module 'notebook' not installed.",
     "output_type": "error"
    }
   ],
   "source": [
    "# Visualize some examples from the dataset.\n",
    "# We show a few examples of training images from each class.\n",
    "classes = ['plane', 'car', 'bird', 'cat', 'deer', 'dog', 'frog', 'horse', 'ship', 'truck']\n",
    "num_classes = len(classes)\n",
    "samples_per_class = 7\n",
    "for y, cls in enumerate(classes):\n",
    "    idxs = np.flatnonzero(y_train == y)\n",
    "    idxs = np.random.choice(idxs, samples_per_class, replace=False)\n",
    "    for i, idx in enumerate(idxs):\n",
    "        plt_idx = i * num_classes + y + 1\n",
    "        plt.subplot(samples_per_class, num_classes, plt_idx)\n",
    "        plt.imshow(X_train[idx].astype('uint8'))\n",
    "        plt.axis('off')\n",
    "        if i == 0:\n",
    "            plt.title(cls)\n",
    "plt.show()"
   ]
  },
  {
   "cell_type": "code",
   "execution_count": null,
   "metadata": {},
   "outputs": [
    {
     "evalue": "Error: Jupyter cannot be started. Error attempting to locate jupyter: Error: Module 'notebook' not installed.",
     "output_type": "error"
    }
   ],
   "source": [
    "# Split the data into train, val, and test sets. In addition we will\n",
    "# create a small development set as a subset of the training data;\n",
    "# we can use this for development so our code runs faster.\n",
    "num_training = 49000\n",
    "num_validation = 1000\n",
    "num_test = 1000\n",
    "num_dev = 500\n",
    "\n",
    "# Our validation set will be num_validation points from the original\n",
    "# training set.\n",
    "mask = range(num_training, num_training + num_validation)\n",
    "X_val = X_train[mask]\n",
    "y_val = y_train[mask]\n",
    "\n",
    "# Our training set will be the first num_train points from the original\n",
    "# training set.\n",
    "mask = range(num_training)\n",
    "X_train = X_train[mask]\n",
    "y_train = y_train[mask]\n",
    "\n",
    "# We will also make a development set, which is a small subset of\n",
    "# the training set.\n",
    "mask = np.random.choice(num_training, num_dev, replace=False)\n",
    "X_dev = X_train[mask]\n",
    "y_dev = y_train[mask]\n",
    "\n",
    "# We use the first num_test points of the original test set as our\n",
    "# test set.\n",
    "mask = range(num_test)\n",
    "X_test = X_test[mask]\n",
    "y_test = y_test[mask]\n",
    "\n",
    "print('Train data shape: ', X_train.shape)\n",
    "print('Train labels shape: ', y_train.shape)\n",
    "print('Validation data shape: ', X_val.shape)\n",
    "print('Validation labels shape: ', y_val.shape)\n",
    "print('Test data shape: ', X_test.shape)\n",
    "print('Test labels shape: ', y_test.shape)\n",
    "print('Dev data shape: ', X_dev.shape)\n",
    "print('Dev labels shape: ', y_dev.shape)"
   ]
  },
  {
   "cell_type": "code",
   "execution_count": null,
   "metadata": {},
   "outputs": [
    {
     "evalue": "Error: Jupyter cannot be started. Error attempting to locate jupyter: Error: Module 'notebook' not installed.",
     "output_type": "error"
    }
   ],
   "source": [
    "# Preprocessing: reshape the image data into rows\n",
    "X_train = np.reshape(X_train, (X_train.shape[0], -1))\n",
    "X_val = np.reshape(X_val, (X_val.shape[0], -1))\n",
    "X_test = np.reshape(X_test, (X_test.shape[0], -1))\n",
    "X_dev = np.reshape(X_dev, (X_dev.shape[0], -1))\n",
    "\n",
    "# As a sanity check, print out the shapes of the data\n",
    "print('Training data shape: ', X_train.shape)\n",
    "print('Validation data shape: ', X_val.shape)\n",
    "print('Test data shape: ', X_test.shape)\n",
    "print('dev data shape: ', X_dev.shape)"
   ]
  },
  {
   "cell_type": "code",
   "execution_count": null,
   "metadata": {},
   "outputs": [
    {
     "evalue": "Error: Jupyter cannot be started. Error attempting to locate jupyter: Error: Module 'notebook' not installed.",
     "output_type": "error"
    }
   ],
   "source": [
    "# Preprocessing: subtract the mean image\n",
    "# first: compute the image mean based on the training data\n",
    "mean_image = np.mean(X_train, axis=0)\n",
    "print(mean_image[:10]) # print a few of the elements\n",
    "plt.figure(figsize=(4,4))\n",
    "plt.imshow(mean_image.reshape((32,32,3)).astype('uint8')) # visualize the mean image\n",
    "plt.show()"
   ]
  },
  {
   "cell_type": "code",
   "execution_count": null,
   "metadata": {},
   "outputs": [
    {
     "evalue": "Error: Jupyter cannot be started. Error attempting to locate jupyter: Error: Module 'notebook' not installed.",
     "output_type": "error"
    }
   ],
   "source": [
    "# second: subtract the mean image from train and test data\n",
    "X_train -= mean_image\n",
    "X_val -= mean_image\n",
    "X_test -= mean_image\n",
    "X_dev -= mean_image"
   ]
  },
  {
   "cell_type": "code",
   "execution_count": null,
   "metadata": {},
   "outputs": [
    {
     "evalue": "Error: Jupyter cannot be started. Error attempting to locate jupyter: Error: Module 'notebook' not installed.",
     "output_type": "error"
    }
   ],
   "source": [
    "# third: append the bias dimension of ones (i.e. bias trick) so that our SVM\n",
    "# only has to worry about optimizing a single weight matrix W.\n",
    "X_train = np.hstack([X_train, np.ones((X_train.shape[0], 1))])\n",
    "X_val = np.hstack([X_val, np.ones((X_val.shape[0], 1))])\n",
    "X_test = np.hstack([X_test, np.ones((X_test.shape[0], 1))])\n",
    "X_dev = np.hstack([X_dev, np.ones((X_dev.shape[0], 1))])\n",
    "\n",
    "print(X_train.shape, X_val.shape, X_test.shape, X_dev.shape)"
   ]
  },
  {
   "cell_type": "markdown",
   "metadata": {},
   "source": [
    "## Classifieur SVM\n",
    "\n",
    "Le code pour cette section est dans le fichier **ift725/classifiers/linear_svm.py**. \n",
    "\n",
    "La fonction `svm_naive_loss_function` calcule la perte à l'aide de boucles for qui itèrent sur chaque donnée de la mini-batch."
   ]
  },
  {
   "cell_type": "code",
   "execution_count": null,
   "metadata": {},
   "outputs": [
    {
     "evalue": "Error: Jupyter cannot be started. Error attempting to locate jupyter: Error: Module 'notebook' not installed.",
     "output_type": "error"
    }
   ],
   "source": [
    "# Evaluate the naive implementation of the loss we provided for you:\n",
    "from ift725.classifiers.linear_svm import svm_naive_loss_function\n",
    "import time\n",
    "\n",
    "# generate a random SVM weight matrix of small numbers\n",
    "W = np.random.randn(3073, 10) * 0.0001 \n",
    "\n",
    "loss, grad = svm_naive_loss_function(W, X_dev, y_dev, 0.00001)\n",
    "print('loss: %f' % (loss, ))"
   ]
  },
  {
   "cell_type": "markdown",
   "metadata": {},
   "source": [
    "Le `grad` retournée par cette fonction est actuellement ZERO. Vous devez coder le gradient de la fonction de perte du SVM (c-à-d le critère du perceptron + 1) dans la fonction `svm_naive_loss_function`. \n",
    "\n",
    "Pour vérifier que votre gradient est bon, une vérification numérique vous est fournie ici:"
   ]
  },
  {
   "cell_type": "code",
   "execution_count": null,
   "metadata": {},
   "outputs": [
    {
     "evalue": "Error: Jupyter cannot be started. Error attempting to locate jupyter: Error: Module 'notebook' not installed.",
     "output_type": "error"
    }
   ],
   "source": [
    "##############################################################################\n",
    "# TODO: Implémenter le calcul du gradient pour la fonction                   #\n",
    "#  svm_naive_loss_function située dans le fichier                            #\n",
    "#  ift725.classifiers.linear_svm.                                            #\n",
    "##############################################################################\n",
    "# Once you've implemented the gradient, recompute it with the code below\n",
    "# and gradient check it with the function we provided for you\n",
    "\n",
    "# Compute the loss and its gradient at W.\n",
    "loss, grad = svm_naive_loss_function(W, X_dev, y_dev, 0.0)\n",
    "\n",
    "# Numerically compute the gradient along several randomly chosen dimensions, and\n",
    "# compare them with your analytically computed gradient. The numbers should match\n",
    "# almost exactly along all dimensions.\n",
    "from ift725.gradient_check import check_gradient_sparse\n",
    "f = lambda w: svm_naive_loss_function(w, X_dev, y_dev, 0.0)[0]\n",
    "grad_numerical = check_gradient_sparse(f, W, grad)\n",
    "\n",
    "# do the gradient check once again with regularization turned on\n",
    "# you didn't forget the regularization gradient did you?\n",
    "loss, grad = svm_naive_loss_function(W, X_dev, y_dev, 1e2)\n",
    "f = lambda w: svm_naive_loss_function(w, X_dev, y_dev, 1e2)[0]\n",
    "grad_numerical = check_gradient_sparse(f,W,grad)"
   ]
  },
  {
   "cell_type": "markdown",
   "metadata": {},
   "source": [
    "### Question 1:\n",
    "Il est possible parfois (mais rarement) que le gradient numérique soit significativement différent du gradient analytique.  Expliquez pourquoi. *Hint: La SVM loss n'est pas dfférentiable partout*\n",
    "\n",
    "**Votre Réponse:** ..."
   ]
  },
  {
   "cell_type": "markdown",
   "metadata": {},
   "source": [
    "### Question 2:  \n",
    "Les 2 prochaines étapes consistent à implanter le calcul de la loss et du gradient de la loss de façon **linéarisée**.  Avant de commencer à coder, veuillez donner ici la formule de la loss et du gradient pour une mini-batch de 500 données contenue dans le tableau \n",
    "\n",
    "$$X \\in R^{500\\times 3073}$$\n",
    "\n",
    "et une matrice de poids $$W \\in R^{3073\\times 10}$$ \n",
    "\n",
    "où 3073 est la dimensionnalité des données et 10 est le nombre de classes.\n",
    "\n",
    "**Votre Réponse:** \n",
    "\n",
    "$$Loss = \\frac{max(0, 1 + X.W - X.W(y)) + reg*||W||²}{500} $$\n",
    "\n",
    "$$dW =  \\frac{(I(1 + X.W - X.W(y) > 0) - \\sum(I(1 + X.W - X.W(y) > 0))).X}{500} $$\n",
    "\n",
    "**NOTE IMPORTANT** : la réponse à cette question ne contient aucune boucle, seulement des multiplications matricielles et ventorielles"
   ]
  },
  {
   "cell_type": "code",
   "execution_count": 11,
   "metadata": {
    "pycharm": {
     "is_executing": false
    }
   },
   "outputs": [
    {
     "name": "stdout",
     "output_type": "stream",
     "text": [
      "Naive loss: 9.022067e+00 computed in 0.462506s\n",
      "Vectorized loss: 9.022067e+00 computed in 0.052688s\n",
      "difference: 0.000000\n"
     ]
    }
   ],
   "source": [
    "##############################################################################\n",
    "# TODO: Implémenter le calcul de la perte pour la fonction                   #\n",
    "#  \"svm_vectorized_loss_function\" située dans le fichier                       #\n",
    "#  ift725.classifiers.linear_svm.                                            #\n",
    "##############################################################################\n",
    "\n",
    "# Next implement the function svm_vectorized_loss_function; for now only compute the loss;\n",
    "# we will implement the gradient in a moment.\n",
    "tic = time.time()\n",
    "loss_naive, grad_naive = svm_naive_loss_function(W, X_dev, y_dev, 0.00001)\n",
    "toc = time.time()\n",
    "print('Naive loss: %e computed in %fs' % (loss_naive, toc - tic))\n",
    "\n",
    "from ift725.classifiers.linear_svm import svm_vectorized_loss_function\n",
    "tic = time.time()\n",
    "loss_vectorized, _ = svm_vectorized_loss_function(W, X_dev, y_dev, 0.00001)\n",
    "toc = time.time()\n",
    "print('Vectorized loss: %e computed in %fs' % (loss_vectorized, toc - tic))\n",
    "\n",
    "# The losses should match but your vectorized implementation should be much faster.\n",
    "print('difference: %f' % (loss_naive - loss_vectorized))"
   ]
  },
  {
   "cell_type": "code",
   "execution_count": 12,
   "metadata": {
    "pycharm": {
     "is_executing": false
    },
    "scrolled": false
   },
   "outputs": [
    {
     "name": "stdout",
     "output_type": "stream",
     "text": [
      "Naive loss and gradient: computed in 0.437312s\n",
      "Vectorized loss and gradient: computed in 0.007214s\n",
      "difference: 0.000000\n"
     ]
    }
   ],
   "source": [
    "##############################################################################\n",
    "# TODO: Implémenter le calcul du gradient pour la fonction                   #\n",
    "#  svm_vectorized_loss_function située dans le fichier                       #\n",
    "#  ift725.classifiers.linear_svm.                                            #\n",
    "##############################################################################\n",
    "\n",
    "# Complete the implementation of svm_vectorized_loss_function, and compute the gradient\n",
    "# of the loss function in a vectorized way.\n",
    "\n",
    "# The naive implementation and the vectorized implementation should match, but\n",
    "# the vectorized version should still be much faster.\n",
    "tic = time.time()\n",
    "_, grad_naive = svm_naive_loss_function(W, X_dev, y_dev, 0.00001)\n",
    "toc = time.time()\n",
    "print('Naive loss and gradient: computed in %fs' % (toc - tic))\n",
    "\n",
    "tic = time.time()\n",
    "_, grad_vectorized = svm_vectorized_loss_function(W, X_dev, y_dev, 0.00001)\n",
    "toc = time.time()\n",
    "print('Vectorized loss and gradient: computed in %fs' % (toc - tic))\n",
    "\n",
    "# The loss is a single number, so it is easy to compare the values computed\n",
    "# by the two implementations. The gradient on the other hand is a matrix, so\n",
    "# we use the Frobenius norm to compare them.\n",
    "difference = np.linalg.norm(grad_naive - grad_vectorized, ord='fro')\n",
    "print('difference: %f' % difference)"
   ]
  },
  {
   "cell_type": "markdown",
   "metadata": {},
   "source": [
    "### Descente de gradient stochastique (SGD)\n",
    "\n",
    "Maintenant que la loss et le gradient ont été vectorisés, nous sommes maintenant prêts pour entraîner le réseau à l'aide d'un SGD."
   ]
  },
  {
   "cell_type": "code",
   "execution_count": 13,
   "metadata": {
    "pycharm": {
     "is_executing": false
    }
   },
   "outputs": [
    {
     "name": "stdout",
     "output_type": "stream",
     "text": [
      "iteration 0 / 1500: loss 49.530863\n",
      "iteration 100 / 1500: loss 42.553112\n",
      "iteration 200 / 1500: loss 38.512876\n",
      "iteration 300 / 1500: loss 39.049036\n",
      "iteration 400 / 1500: loss 38.723586\n",
      "iteration 500 / 1500: loss 38.206972\n",
      "iteration 600 / 1500: loss 36.186288\n",
      "iteration 700 / 1500: loss 37.428347\n",
      "iteration 800 / 1500: loss 36.702648\n",
      "iteration 900 / 1500: loss 36.841679\n",
      "iteration 1000 / 1500: loss 36.713437\n",
      "iteration 1100 / 1500: loss 36.435099\n",
      "iteration 1200 / 1500: loss 35.133384\n",
      "iteration 1300 / 1500: loss 36.163602\n",
      "iteration 1400 / 1500: loss 36.018941\n",
      "That took 7.561381\n"
     ]
    }
   ],
   "source": [
    "#############################################################################\n",
    "# TODO: Implémenter l'algorithme SGD dans la fonction train() de la classe  # \n",
    "#  LinearClassifier situé dans le fichier                                   #\n",
    "#  ift725.classifiers.linear_classifier.py.                                 #\n",
    "#############################################################################\n",
    "\n",
    "# In the file linear_classifier.py, implement SGD in the function\n",
    "# LinearClassifier.train() and then run it with the code below.\n",
    "from ift725.classifiers import LinearSVM\n",
    "svm = LinearSVM()\n",
    "tic = time.time()\n",
    "loss_hist = svm.train(X_train, y_train, learning_rate=1e-7, reg=2e5,\n",
    "                      num_iters=1500, verbose=True)\n",
    "toc = time.time()\n",
    "print('That took %f' % (toc - tic))"
   ]
  },
  {
   "cell_type": "code",
   "execution_count": 14,
   "metadata": {
    "pycharm": {
     "is_executing": false
    }
   },
   "outputs": [
    {
     "data": {
      "image/png": "[encoded data removed]",
      "text/plain": [
       "<Figure size 432x288 with 1 Axes>"
      ]
     },
     "metadata": {
      "needs_background": "light"
     },
     "output_type": "display_data"
    }
   ],
   "source": [
    "# A useful debugging strategy is to plot the loss as a function of\n",
    "# iteration number:\n",
    "plt.plot(loss_hist)\n",
    "plt.xlabel('Iteration number')\n",
    "plt.ylabel('Loss value')\n",
    "plt.show()"
   ]
  },
  {
   "cell_type": "code",
   "execution_count": 15,
   "metadata": {
    "pycharm": {
     "is_executing": false
    }
   },
   "outputs": [
    {
     "name": "stdout",
     "output_type": "stream",
     "text": [
      "training accuracy: 0.301571\n",
      "validation accuracy: 0.314000\n"
     ]
    }
   ],
   "source": [
    "#############################################################################\n",
    "# TODO: Implémenter la fonction \"predict\" de la classe                      # \n",
    "# #  LinearClassifier situé dans le fichier                                 #\n",
    "# #  ift725.classifiers.linear_classifier.py.                               #\n",
    "#############################################################################\n",
    "\n",
    "# Write the LinearSVM.predict function and evaluate the performance on both the\n",
    "# training and validation set\n",
    "y_train_pred = svm.predict(X_train)\n",
    "print('training accuracy: %f' % (np.mean(y_train == y_train_pred), ))\n",
    "y_val_pred = svm.predict(X_val)\n",
    "print('validation accuracy: %f' % (np.mean(y_val == y_val_pred), ))"
   ]
  },
  {
   "cell_type": "code",
   "execution_count": 16,
   "metadata": {
    "pycharm": {
     "is_executing": false
    },
    "scrolled": false
   },
   "outputs": [
    {
     "name": "stdout",
     "output_type": "stream",
     "text": [
      "3.162277660168379e-08 10.0 0.2679183673469388 0.283\n",
      "1.7782794100389227e-07 10.0 0.3228979591836735 0.334\n",
      "1.7782794100389227e-07 56234.13251903491 0.32393877551020406 0.351\n",
      "1e-06 1000000.0 0.3637142857142857 0.358\n",
      "lr 3.162278e-08 reg 1.000000e+01 train accuracy: 0.267918 val accuracy: 0.283000\n",
      "lr 3.162278e-08 reg 1.778279e+02 train accuracy: 0.263857 val accuracy: 0.277000\n",
      "lr 3.162278e-08 reg 3.162278e+03 train accuracy: 0.268551 val accuracy: 0.277000\n",
      "lr 3.162278e-08 reg 5.623413e+04 train accuracy: 0.268776 val accuracy: 0.282000\n",
      "lr 3.162278e-08 reg 1.000000e+06 train accuracy: 0.266327 val accuracy: 0.279000\n",
      "lr 1.778279e-07 reg 1.000000e+01 train accuracy: 0.322898 val accuracy: 0.334000\n",
      "lr 1.778279e-07 reg 1.778279e+02 train accuracy: 0.318612 val accuracy: 0.333000\n",
      "lr 1.778279e-07 reg 3.162278e+03 train accuracy: 0.325816 val accuracy: 0.313000\n",
      "lr 1.778279e-07 reg 5.623413e+04 train accuracy: 0.323939 val accuracy: 0.351000\n",
      "lr 1.778279e-07 reg 1.000000e+06 train accuracy: 0.323082 val accuracy: 0.325000\n",
      "lr 1.000000e-06 reg 1.000000e+01 train accuracy: 0.357245 val accuracy: 0.338000\n",
      "lr 1.000000e-06 reg 1.778279e+02 train accuracy: 0.345041 val accuracy: 0.326000\n",
      "lr 1.000000e-06 reg 3.162278e+03 train accuracy: 0.366122 val accuracy: 0.341000\n",
      "lr 1.000000e-06 reg 5.623413e+04 train accuracy: 0.351347 val accuracy: 0.330000\n",
      "lr 1.000000e-06 reg 1.000000e+06 train accuracy: 0.363714 val accuracy: 0.358000\n",
      "lr 5.623413e-06 reg 1.000000e+01 train accuracy: 0.316204 val accuracy: 0.308000\n",
      "lr 5.623413e-06 reg 1.778279e+02 train accuracy: 0.301143 val accuracy: 0.299000\n",
      "lr 5.623413e-06 reg 3.162278e+03 train accuracy: 0.338571 val accuracy: 0.349000\n",
      "lr 5.623413e-06 reg 5.623413e+04 train accuracy: 0.314490 val accuracy: 0.322000\n",
      "lr 5.623413e-06 reg 1.000000e+06 train accuracy: 0.332122 val accuracy: 0.310000\n",
      "lr 3.162278e-05 reg 1.000000e+01 train accuracy: 0.281776 val accuracy: 0.281000\n",
      "lr 3.162278e-05 reg 1.778279e+02 train accuracy: 0.277673 val accuracy: 0.273000\n",
      "lr 3.162278e-05 reg 3.162278e+03 train accuracy: 0.304020 val accuracy: 0.293000\n",
      "lr 3.162278e-05 reg 5.623413e+04 train accuracy: 0.298388 val accuracy: 0.302000\n",
      "lr 3.162278e-05 reg 1.000000e+06 train accuracy: 0.317796 val accuracy: 0.329000\n",
      "best validation accuracy achieved during cross-validation: 0.358000\n"
     ]
    },
    {
     "data": {
      "image/png": "[encoded data removed]",
      "text/plain": [
       "<Figure size 432x288 with 1 Axes>"
      ]
     },
     "metadata": {
      "needs_background": "light"
     },
     "output_type": "display_data"
    }
   ],
   "source": [
    "# Use the validation set to tune hyperparameters (regularization strength and\n",
    "# learning rate). You should experiment with different ranges for the learning\n",
    "# rates and regularization strengths; if you are careful you should be able to\n",
    "# get a classification accuracy of about 0.4 on the validation set.\n",
    "learning_rates = [1e-7, 5e-5]\n",
    "regularization_strengths = [5e4, 1e5]\n",
    "\n",
    "# results is dictionary mapping tuples of the form\n",
    "# (learning_rate, regularization_strength) to tuples of the form\n",
    "# (training_accuracy, validation_accuracy). The accuracy is simply the fraction\n",
    "# of data points that are correctly classified.\n",
    "# ex.: results[(lr, reg)] = train_acc, val_acc\n",
    "results = {}\n",
    "best_val = -1   # The highest validation accuracy that we have seen so far.\n",
    "best_svm = None # The LinearSVM object that achieved the highest validation rate.\n",
    "best_history = None\n",
    "\n",
    "################################################################################\n",
    "# TODO: Écrivez le code qui choisi les meilleurs hyper-paramètres en ajustant  #\n",
    "#  l'ensemble de validation. Pour chacune des combinaisons d'hyper-paramètres, #\n",
    "#  formez un SVM linéaire (LinearSVM) sur l'ensemble d'apprentissage, calculez #\n",
    "#  sa précision sur les ensembles d'apprentissage et de validation et stockez  #\n",
    "#  ces nombres dans le dictionnaire de résultats. En plus, stockez la meilleure#\n",
    "#  précision de validation dans la variable \"best_val\" et l'objet LinearSVM qui#\n",
    "#  a atteint cette précision dans la variable \"best_svm\".                      #\n",
    "#                                                                              #\n",
    "# Indice: Vous devriez utiliser une petite valeur pour \"num_iters\" lorsque     #\n",
    "#  vous développez votre code de validation afin que les SVMs ne prennent pas  #\n",
    "#  trop de temps à entrainer; lorsque vous serez confiant que votre code de    #\n",
    "#  validation fonctionne bien, vous devriez réexécuter le code de validation   #\n",
    "#  avec une valeur plus grande pour \"num_iters\".                               #\n",
    "################################################################################\n",
    "import itertools\n",
    "\n",
    "\n",
    "# Highest accu:      lr 2.275846e-07 reg 7.196857e+03\n",
    "# Beautiful weights: lr 1.444e-7     reg 1.5e5\n",
    "\n",
    "# To get beautiful weights, use these lines (and comment out the others):\n",
    "# learning_rates = [1.444e-7]\n",
    "# regularization_strengths = [1.5e5]\n",
    "\n",
    "learning_rates = 10 ** np.linspace(-7.5, -4.5, 5)\n",
    "regularization_strengths = 10 ** np.linspace(1, 6, 5)\n",
    "for lr, reg in itertools.product(learning_rates, regularization_strengths):\n",
    "    classifier = LinearSVM()\n",
    "    loss_history = classifier.train(X_train, y_train, learning_rate=lr, reg=reg, num_iters=1500)\n",
    "    y_pred = classifier.predict(X_train)\n",
    "    train_acc = np.sum(y_train == y_pred).astype(np.float32) / len(y_train)\n",
    "    y_pred = classifier.predict(X_val)\n",
    "    val_acc = np.sum(y_val == y_pred).astype(np.float32) / len(y_val)\n",
    "    \n",
    "    results[(lr, reg)] = train_acc, val_acc\n",
    "    if val_acc > best_val:\n",
    "        print(lr, reg, train_acc, val_acc)\n",
    "        best_val = val_acc\n",
    "        best_svm = classifier\n",
    "        best_history = loss_history\n",
    "################################################################################\n",
    "#                             FIN DE VOTRE CODE                                #\n",
    "################################################################################\n",
    "    \n",
    "# Print out results.\n",
    "for lr, reg in sorted(results):\n",
    "    train_accuracy, val_accuracy = results[(lr, reg)]\n",
    "    print('lr %e reg %e train accuracy: %f val accuracy: %f' % (\n",
    "                lr, reg, train_accuracy, val_accuracy))\n",
    "    \n",
    "print('best validation accuracy achieved during cross-validation: %f' % best_val)\n",
    "\n",
    "plt.figure()\n",
    "plt.plot(best_history)\n",
    "plt.show()"
   ]
  },
  {
   "cell_type": "code",
   "execution_count": 17,
   "metadata": {
    "pycharm": {
     "is_executing": false
    }
   },
   "outputs": [
    {
     "data": {
      "image/png": "[encoded data removed]",
      "text/plain": [
       "<Figure size 432x288 with 4 Axes>"
      ]
     },
     "metadata": {
      "needs_background": "light"
     },
     "output_type": "display_data"
    }
   ],
   "source": [
    "# Visualize the cross-validation results\n",
    "import math\n",
    "x_scatter = [math.log10(x[0]) for x in results]\n",
    "y_scatter = [math.log10(x[1]) for x in results]\n",
    "\n",
    "# plot training accuracy\n",
    "marker_size = 100\n",
    "colors = [results[x][0] for x in results]\n",
    "plt.subplot(2, 1, 1)\n",
    "plt.scatter(x_scatter, y_scatter, marker_size, c=colors)\n",
    "plt.colorbar()\n",
    "plt.xlabel('log learning rate')\n",
    "plt.ylabel('log regularization strength')\n",
    "plt.title('CIFAR-10 training accuracy')\n",
    "\n",
    "# plot validation accuracy\n",
    "colors = [results[x][1] for x in results] # default size of markers is 20\n",
    "plt.subplot(2, 1, 2)\n",
    "plt.scatter(x_scatter, y_scatter, marker_size, c=colors)\n",
    "plt.colorbar()\n",
    "plt.xlabel('log learning rate')\n",
    "plt.ylabel('log regularization strength')\n",
    "plt.title('CIFAR-10 validation accuracy')\n",
    "plt.show()"
   ]
  },
  {
   "cell_type": "code",
   "execution_count": 18,
   "metadata": {
    "pycharm": {
     "is_executing": false
    }
   },
   "outputs": [
    {
     "name": "stdout",
     "output_type": "stream",
     "text": [
      "linear SVM on raw pixels final test set accuracy: 0.328000\n"
     ]
    }
   ],
   "source": [
    "# Evaluate the best svm on test set\n",
    "y_test_pred = best_svm.predict(X_test)\n",
    "test_accuracy = np.mean(y_test == y_test_pred)\n",
    "print('linear SVM on raw pixels final test set accuracy: %f' % test_accuracy)"
   ]
  },
  {
   "cell_type": "code",
   "execution_count": 19,
   "metadata": {
    "pycharm": {
     "is_executing": false
    }
   },
   "outputs": [
    {
     "data": {
      "image/png": "[encoded data removed]",
      "text/plain": [
       "<Figure size 432x288 with 10 Axes>"
      ]
     },
     "metadata": {
      "needs_background": "light"
     },
     "output_type": "display_data"
    }
   ],
   "source": [
    "# Visualize the learned weights for each class.\n",
    "# Depending on your choice of learning rate and regularization strength, these may\n",
    "# or may not be nice to look at.\n",
    "w = best_svm.W[:-1,:] # strip out the bias\n",
    "w = w.reshape(32, 32, 3, 10)\n",
    "w_min, w_max = np.min(w), np.max(w)\n",
    "classes = ['plane', 'car', 'bird', 'cat', 'deer', 'dog', 'frog', 'horse', 'ship', 'truck']\n",
    "for i in range(10):\n",
    "    plt.subplot(2, 5, i + 1)\n",
    "    \n",
    "    # Rescale the weights to be between 0 and 255\n",
    "    wimg = 255.0 * (w[:, :, :, i].squeeze() - w_min) / (w_max - w_min)\n",
    "    plt.imshow(wimg.astype('uint8'))\n",
    "    plt.axis('off')\n",
    "    plt.title(classes[i])"
   ]
  },
  {
   "cell_type": "code",
   "execution_count": null,
   "metadata": {
    "pycharm": {
     "is_executing": true,
     "name": "#%%\n"
    }
   },
   "outputs": [],
   "source": [
    "\n"
   ]
  }
 ],
 "metadata": {
  "anaconda-cloud": {},
  "kernelspec": {
   "display_name": "Python 3",
   "language": "python",
   "name": "python3"
  },
  "language_info": {
   "codemirror_mode": {
    "name": "ipython",
    "version": 3
   },
   "file_extension": ".py",
   "mimetype": "text/x-python",
   "name": "python",
   "nbconvert_exporter": "python",
   "pygments_lexer": "ipython3",
   "version": "3.7.3"
  },
  "pycharm": {
   "stem_cell": {
    "cell_type": "raw",
    "metadata": {
     "collapsed": false
    },
    "source": []
   }
  }
 },
 "nbformat": 4,
 "nbformat_minor": 1
}
